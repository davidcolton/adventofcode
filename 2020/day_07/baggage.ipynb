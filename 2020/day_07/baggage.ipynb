{
 "cells": [
  {
   "cell_type": "code",
   "execution_count": 1,
   "metadata": {},
   "outputs": [],
   "source": [
    "import pandas as pd\n",
    "import numpy as np\n",
    "import networkx as nx\n",
    "import matplotlib.pyplot as plt\n",
    "from matplotlib.pyplot import figure\n",
    "\n",
    "\n",
    "def clean_contens_list(input):\n",
    "    contents_list = []\n",
    "    for bag in input:\n",
    "        bag_elements = bag.strip().split()\n",
    "        if bag_elements[0] == \"no\":\n",
    "            bag_colour = None\n",
    "            number_of_bags = 0\n",
    "        else:\n",
    "            bag_colour = \"_\".join(bag_elements[1:-1])\n",
    "            number_of_bags = int(bag_elements[0])\n",
    "        contents_list.append((bag_colour, number_of_bags))\n",
    "    return contents_list\n",
    "\n",
    "\n",
    "def input_to_graph(input):\n",
    "\n",
    "    DG = nx.DiGraph()\n",
    "\n",
    "    for rule in input:\n",
    "        # Split on text 'bags contain'\n",
    "        bag, contents = rule.split(\"bags contain\")\n",
    "        bag = bag.strip().replace(\" \", \"_\")\n",
    "\n",
    "        # If the is a comma in contents then there is more than\n",
    "        #     1 bag type contain\n",
    "        if \",\" in contents:\n",
    "            contents_list = contents.split(\",\")\n",
    "        else:\n",
    "            contents_list = [contents]\n",
    "\n",
    "        # Clean the contents of each bag and get in a format\n",
    "        #     that will allow me to create the graph\n",
    "        clean_contents = clean_contens_list(contents_list)\n",
    "\n",
    "        # Now iterate over the contents and add an edge per bag\n",
    "        for inner_bag in clean_contents:\n",
    "            if inner_bag[0] is None:\n",
    "                continue\n",
    "            DG.add_edges_from([(bag, inner_bag[0])], weight=inner_bag[1])\n",
    "\n",
    "    return DG\n",
    "\n",
    "\n",
    "def count_predecessors(dg, start_node):\n",
    "    stack = list(dg.predecessors(start_node))\n",
    "    predecessors_set = set()\n",
    "    predecessors_set.update(stack)\n",
    "\n",
    "    while stack:\n",
    "        node = stack.pop()\n",
    "        predecessors = list(dg.predecessors(node))\n",
    "        predecessors_set.update(predecessors)\n",
    "        stack += predecessors\n",
    "\n",
    "    print(len(predecessors_set))"
   ]
  },
  {
   "cell_type": "code",
   "execution_count": 2,
   "metadata": {},
   "outputs": [
    {
     "name": "stdout",
     "output_type": "stream",
     "text": [
      "128\n"
     ]
    }
   ],
   "source": [
    "with open(\"input\") as f:\n",
    "        input = f.read().splitlines()\n",
    "\n",
    "# Create a network graph from the input\n",
    "DG = input_to_graph(input)\n",
    "\n",
    "count_predecessors(DG, \"shiny_gold\")"
   ]
  },
  {
   "cell_type": "code",
   "execution_count": 3,
   "metadata": {},
   "outputs": [
    {
     "data": {
      "text/plain": [
       "<networkx.classes.digraph.DiGraph at 0x102315f10>"
      ]
     },
     "execution_count": 3,
     "metadata": {},
     "output_type": "execute_result"
    }
   ],
   "source": [
    "DG"
   ]
  },
  {
   "cell_type": "code",
   "execution_count": 8,
   "metadata": {},
   "outputs": [
    {
     "name": "stdout",
     "output_type": "stream",
     "text": [
      "posh_green 3\n",
      "dull_white 2\n"
     ]
    }
   ],
   "source": [
    "for k,v in DG['shiny_gold'].items():\n",
    "    print(k,v['weight'])"
   ]
  },
  {
   "cell_type": "code",
   "execution_count": 24,
   "metadata": {},
   "outputs": [],
   "source": [
    "def count_bags(graph, node):\n",
    "    return 1 + sum(v['weight'] * count_bags(graph, k) for k, v in graph[node].items() if graph[node])"
   ]
  },
  {
   "cell_type": "code",
   "execution_count": 25,
   "metadata": {},
   "outputs": [
    {
     "data": {
      "text/plain": [
       "0"
      ]
     },
     "execution_count": 25,
     "metadata": {},
     "output_type": "execute_result"
    }
   ],
   "source": [
    "count_bags(DG, 'shiny_gold')"
   ]
  },
  {
   "cell_type": "code",
   "execution_count": null,
   "metadata": {},
   "outputs": [],
   "source": []
  }
 ],
 "metadata": {
  "kernelspec": {
   "display_name": "Python 3",
   "language": "python",
   "name": "python3"
  },
  "language_info": {
   "codemirror_mode": {
    "name": "ipython",
    "version": 3
   },
   "file_extension": ".py",
   "mimetype": "text/x-python",
   "name": "python",
   "nbconvert_exporter": "python",
   "pygments_lexer": "ipython3",
   "version": "3.8.5"
  }
 },
 "nbformat": 4,
 "nbformat_minor": 4
}
