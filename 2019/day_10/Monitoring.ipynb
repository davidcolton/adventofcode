{
 "cells": [
  {
   "cell_type": "code",
   "execution_count": 1,
   "metadata": {},
   "outputs": [],
   "source": [
    "import pandas as pd\n",
    "\n",
    "with open(\"input.txt\", \"r\") as f:\n",
    "    data = f.read()\n",
    "\n",
    "data = data.replace(\"#\", \"1\")\n",
    "\n",
    "data_list = [list(char.replace(\".\", \"0\")) for char in [line for line in data.split()]]\n",
    "\n",
    "df = pd.DataFrame.from_records(data_list)"
   ]
  },
  {
   "cell_type": "code",
   "execution_count": 2,
   "metadata": {},
   "outputs": [
    {
     "data": {
      "text/plain": [
       "(284, Point(x=20, y=19))"
      ]
     },
     "execution_count": 2,
     "metadata": {},
     "output_type": "execute_result"
    }
   ],
   "source": [
    "from collections import namedtuple, defaultdict\n",
    "from itertools import product\n",
    "from math import atan2,degrees\n",
    "\n",
    "def get_angle_between_points(p1, p2):\n",
    "    x_diff = p2.x - p1.x\n",
    "    y_diff = p2.y - p1.y\n",
    "    alpha = degrees(atan2(y_diff, x_diff))\n",
    "    return (alpha + 450) % 360\n",
    "\n",
    "Point = namedtuple('Point', 'x y')\n",
    "\n",
    "unique_angles = defaultdict(set)\n",
    "\n",
    "all_coords = [Point(x, y) for x, y in product(range(26), repeat=2)]\n",
    "\n",
    "for point in all_coords:\n",
    "    # print(f'x: {point.x}, y: {point.y}, df: {df[point.x][point.y]}')\n",
    "    if df[point.x][point.y] == '1':\n",
    "        for asteroid in all_coords:\n",
    "            # print(f'x: {asteroid.x}, y: {asteroid.y}, ast: {df[asteroid.x][asteroid.y]}')\n",
    "            if df[asteroid.x][asteroid.y] == '1':\n",
    "                # print(point, asteroid)\n",
    "                unique_angles[point].add(get_angle_between_points(point, asteroid))\n",
    "\n",
    "max([(len(unique_angles[point]), point) for point in unique_angles.keys()])"
   ]
  },
  {
   "cell_type": "code",
   "execution_count": 3,
   "metadata": {},
   "outputs": [
    {
     "name": "stdout",
     "output_type": "stream",
     "text": [
      "Count: 200, Angle: 313.15238973, Distance:21.931712, Point: Point(x=4, y=4)\n"
     ]
    }
   ],
   "source": [
    "import math  \n",
    "\n",
    "def calculate_distance(p1,p2):\n",
    "    dist = math.sqrt((p2.x - p1.x)**2 + (p2.y - p1.y)**2)\n",
    "    return dist  \n",
    "\n",
    "astroid_distances = defaultdict(list)\n",
    "\n",
    "best_asteroid = Point(x=20, y=19)\n",
    "\n",
    "for asteroid in all_coords:\n",
    "    # print(f'x: {asteroid.x}, y: {asteroid.y}, ast: {df[asteroid.x][asteroid.y]}')\n",
    "    if df[asteroid.x][asteroid.y] == '1':\n",
    "        # print(point, asteroid)\n",
    "        angle = get_angle_between_points(best_asteroid, asteroid)\n",
    "        dist = calculate_distance(best_asteroid, asteroid)\n",
    "        astroid_distances[angle].append((dist, asteroid))\n",
    "\n",
    "        # Sort asteroid distances\n",
    "for asteroid in astroid_distances.keys():\n",
    "    astroid_distances[asteroid] = sorted(astroid_distances[asteroid])\n",
    "\n",
    "asteroid_count = 1\n",
    "\n",
    "sorted_astroid_distances = sorted(astroid_distances.keys())\n",
    "\n",
    "for asteroid in sorted_astroid_distances:\n",
    "    blasted = astroid_distances[asteroid][0]\n",
    "    if asteroid_count == 200:\n",
    "        print(f'Count: {asteroid_count:>3}, Angle: {asteroid:12.8f}, Distance:{blasted[0]:8.6f}, Point: {blasted[1]}')\n",
    "    asteroid_count += 1"
   ]
  },
  {
   "cell_type": "code",
   "execution_count": null,
   "metadata": {},
   "outputs": [],
   "source": []
  }
 ],
 "metadata": {
  "kernelspec": {
   "display_name": "Python 3",
   "language": "python",
   "name": "python3"
  },
  "language_info": {
   "codemirror_mode": {
    "name": "ipython",
    "version": 3
   },
   "file_extension": ".py",
   "mimetype": "text/x-python",
   "name": "python",
   "nbconvert_exporter": "python",
   "pygments_lexer": "ipython3",
   "version": "3.7.4"
  }
 },
 "nbformat": 4,
 "nbformat_minor": 2
}
